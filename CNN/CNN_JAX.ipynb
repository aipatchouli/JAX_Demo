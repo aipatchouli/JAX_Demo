{
  "nbformat": 4,
  "nbformat_minor": 0,
  "metadata": {
    "colab": {
      "provenance": [],
      "gpuType": "T4",
      "authorship_tag": "ABX9TyPZOJcp5Mox3Vaeiuy9MYid",
      "include_colab_link": true
    },
    "kernelspec": {
      "name": "python3",
      "display_name": "Python 3"
    },
    "language_info": {
      "name": "python"
    },
    "accelerator": "GPU"
  },
  "cells": [
    {
      "cell_type": "markdown",
      "metadata": {
        "id": "view-in-github",
        "colab_type": "text"
      },
      "source": [
        "<a href=\"https://colab.research.google.com/github/aipatchouli/JAX_Demo/blob/main/CNN/CNN_JAX.ipynb\" target=\"_parent\"><img src=\"https://colab.research.google.com/assets/colab-badge.svg\" alt=\"Open In Colab\"/></a>"
      ]
    },
    {
      "cell_type": "code",
      "source": [
        "from google.colab import drive\n",
        "drive.mount('/content/googledrive')"
      ],
      "metadata": {
        "colab": {
          "base_uri": "https://localhost:8080/"
        },
        "id": "4ulSuPBsJ9cL",
        "outputId": "e674a310-8567-4364-ce78-55dce863243c"
      },
      "execution_count": 1,
      "outputs": [
        {
          "output_type": "stream",
          "name": "stdout",
          "text": [
            "Mounted at /content/googledrive\n"
          ]
        }
      ]
    },
    {
      "cell_type": "code",
      "source": [
        "!pip install -Uq tensorflow-datasets jax optax flax dm-haiku rlax tensorflow\n",
        "!pip show jax | grep \"Version\"\n",
        "!cat /proc/cpuinfo | grep \"model name\"\n",
        "!nvidia-smi"
      ],
      "metadata": {
        "colab": {
          "base_uri": "https://localhost:8080/"
        },
        "id": "BKT-8xX4a4ka",
        "outputId": "22ca2d9e-9fff-408d-e910-31b2c45f2b51"
      },
      "execution_count": 3,
      "outputs": [
        {
          "output_type": "stream",
          "name": "stdout",
          "text": [
            "Version: 0.4.10\n",
            "model name\t: Intel(R) Xeon(R) CPU @ 2.30GHz\n",
            "model name\t: Intel(R) Xeon(R) CPU @ 2.30GHz\n",
            "Sat May 27 13:13:42 2023       \n",
            "+-----------------------------------------------------------------------------+\n",
            "| NVIDIA-SMI 525.85.12    Driver Version: 525.85.12    CUDA Version: 12.0     |\n",
            "|-------------------------------+----------------------+----------------------+\n",
            "| GPU  Name        Persistence-M| Bus-Id        Disp.A | Volatile Uncorr. ECC |\n",
            "| Fan  Temp  Perf  Pwr:Usage/Cap|         Memory-Usage | GPU-Util  Compute M. |\n",
            "|                               |                      |               MIG M. |\n",
            "|===============================+======================+======================|\n",
            "|   0  Tesla T4            Off  | 00000000:00:04.0 Off |                    0 |\n",
            "| N/A   50C    P8    10W /  70W |      0MiB / 15360MiB |      0%      Default |\n",
            "|                               |                      |                  N/A |\n",
            "+-------------------------------+----------------------+----------------------+\n",
            "                                                                               \n",
            "+-----------------------------------------------------------------------------+\n",
            "| Processes:                                                                  |\n",
            "|  GPU   GI   CI        PID   Type   Process name                  GPU Memory |\n",
            "|        ID   ID                                                   Usage      |\n",
            "|=============================================================================|\n",
            "|  No running processes found                                                 |\n",
            "+-----------------------------------------------------------------------------+\n"
          ]
        }
      ]
    },
    {
      "cell_type": "code",
      "source": [
        "import jax\n",
        "jax.devices()"
      ],
      "metadata": {
        "colab": {
          "base_uri": "https://localhost:8080/"
        },
        "id": "qdqnlln9gA5B",
        "outputId": "f06522ce-7b8c-4098-93a4-77d8ead74e53"
      },
      "execution_count": 4,
      "outputs": [
        {
          "output_type": "execute_result",
          "data": {
            "text/plain": [
              "[StreamExecutorGpuDevice(id=0, process_index=0, slice_index=0)]"
            ]
          },
          "metadata": {},
          "execution_count": 4
        }
      ]
    },
    {
      "cell_type": "code",
      "source": [
        "from jax import jit, grad, vmap\n",
        "import jax.numpy as jnp\n",
        "from jax import random\n",
        "import numpy as np\n",
        "\n",
        "key = random.PRNGKey(10007)"
      ],
      "metadata": {
        "id": "_G2Y36uzjMUz"
      },
      "execution_count": 5,
      "outputs": []
    },
    {
      "cell_type": "code",
      "source": [
        "# 数据集\n",
        "import tensorflow_datasets as tfds\n",
        "import tensorflow as tf\n",
        "\n",
        "def get_datasets_MNIST(num_epochs, batch_size):\n",
        "    train_ds = tfds.load('mnist', split='train')\n",
        "    test_ds = tfds.load('mnist', split='test')\n",
        "\n",
        "    train_ds = train_ds.map(lambda sample: {\n",
        "        'image': tf.cast(sample['image'], tf.float32) / 255.,   # normalize\n",
        "        'label': sample['label']\n",
        "    })\n",
        "    test_ds = test_ds.map(lambda sample: {\n",
        "        'image': tf.cast(sample['image'], tf.float32) / 255.,\n",
        "        'label': sample['label']\n",
        "    })\n",
        "\n",
        "    train_ds = train_ds.repeat(num_epochs).shuffle(1024) \n",
        "    train_ds = train_ds.batch(batch_size, drop_remainder=True).prefetch(1)\n",
        "    test_ds = test_ds.shuffle(1024)\n",
        "    test_ds = test_ds.batch(batch_size, drop_remainder=True).prefetch(1)\n",
        "\n",
        "    return train_ds, test_ds\n"
      ],
      "metadata": {
        "id": "E5op9w3BWmpV"
      },
      "execution_count": null,
      "outputs": []
    }
  ]
}